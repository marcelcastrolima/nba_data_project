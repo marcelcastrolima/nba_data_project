{
 "cells": [
  {
   "cell_type": "code",
   "execution_count": null,
   "id": "532ec344",
   "metadata": {},
   "outputs": [],
   "source": [
    "import pandas as pd\n",
    "import time\n",
    "\n",
    "from nba_api.stats.endpoints import leaguestandings\n",
    "from nba_api.stats.endpoints import teamyearbyyearstats\n",
    "from nba_api.stats.endpoints import commonteamroster\n",
    "from nba_api.stats.endpoints import playercareerstats"
   ]
  },
  {
   "cell_type": "markdown",
   "id": "d9af2de1",
   "metadata": {},
   "source": [
    "Pull data from the LeagueStandings endpoint"
   ]
  },
  {
   "cell_type": "markdown",
   "id": "ad1c8c9b",
   "metadata": {},
   "source": [
    "Features: ['LeagueID', 'SeasonID', 'TeamID', 'TeamCity', 'TeamName', 'Conference', 'ConferenceRecord', 'PlayoffRank', 'ClinchIndicator', 'Division', 'DivisionRecord', 'DivisionRank', 'WINS', 'LOSSES', 'WinPCT', 'LeagueRank', 'Record', 'HOME', 'ROAD', 'L10', 'Last10Home', 'Last10Road', 'OT', 'ThreePTSOrLess', 'TenPTSOrMore', 'LongHomeStreak', 'strLongHomeStreak', 'LongRoadStreak', 'strLongRoadStreak', 'LongWinStreak', 'LongLossStreak', 'CurrentHomeStreak', 'strCurrentHomeStreak', 'CurrentRoadStreak', 'strCurrentRoadStreak', 'CurrentStreak', 'strCurrentStreak', 'ConferenceGamesBack', 'DivisionGamesBack', 'ClinchedConferenceTitle', 'ClinchedDivisionTitle', 'ClinchedPlayoffBirth', 'EliminatedConference', 'EliminatedDivision', 'AheadAtHalf', 'BehindAtHalf', 'TiedAtHalf', 'AheadAtThird', 'BehindAtThird', 'TiedAtThird', 'Score100PTS', 'OppScore100PTS', 'OppOver500', 'LeadInFGPCT', 'LeadInReb', 'FewerTurnovers', 'PointsPG', 'OppPointsPG', 'DiffPointsPG', 'vsEast', 'vsAtlantic', 'vsCentral', 'vsSoutheast', 'vsWest', 'vsNorthwest', 'vsPacific', 'vsSouthwest', 'Jan', 'Feb', 'Mar', 'Apr', 'May', 'Jun', 'Jul', 'Aug', 'Sep', 'Oct', 'Nov', 'Dec', 'PreAS', 'PostAS']"
   ]
  },
  {
   "cell_type": "code",
   "execution_count": null,
   "id": "71af72a7",
   "metadata": {},
   "outputs": [],
   "source": [
    "standings_all_years = pd.DataFrame()"
   ]
  },
  {
   "cell_type": "code",
   "execution_count": null,
   "id": "b43a8166",
   "metadata": {},
   "outputs": [],
   "source": [
    "#Pull standings for each year between 1982-2023 !!!May take long!!!\n",
    "for year in range (1982, 2023):\n",
    "    standings = leaguestandings.LeagueStandings(league_id=\"00\", season=year, season_type=\"Regular Season\")\n",
    "    standingsdf = standings.get_data_frames()[0]\n",
    "    standings_all_years = standings_all_years.append(standingsdf, ignore_index=True)\n",
    "    print(year)\n",
    "    time.sleep(2)"
   ]
  },
  {
   "cell_type": "code",
   "execution_count": null,
   "id": "ba1c46af",
   "metadata": {},
   "outputs": [],
   "source": [
    "standings_all_years.to_csv('standings_complete.csv', index=False)"
   ]
  },
  {
   "cell_type": "markdown",
   "id": "33145eb2",
   "metadata": {},
   "source": [
    "Some data cleaning and feature selection before exporting to CSV"
   ]
  },
  {
   "cell_type": "code",
   "execution_count": null,
   "id": "433d9931",
   "metadata": {},
   "outputs": [],
   "source": [
    "\n",
    "standings_selected = standings_all_years[['SeasonID', 'TeamID', 'TeamName', 'OppPointsPG', 'HOME', 'PlayoffRank']]\n",
    "standings_selected['SeasonID'] = standings_selected['SeasonID'].astype(str)\n",
    "standings_selected['SeasonID'] = standings_selected['SeasonID'].str[1:]\n",
    "standings_selected['SeasonID'] = standings_selected['SeasonID'].astype(int)\n",
    "standings_selected = standings_selected[standings_selected['SeasonID']>1983]"
   ]
  },
  {
   "cell_type": "code",
   "execution_count": null,
   "id": "9198b722",
   "metadata": {},
   "outputs": [],
   "source": [
    "standings_selected.to_csv('standings_selected_feat.csv', index=False)"
   ]
  },
  {
   "cell_type": "markdown",
   "id": "525d141d",
   "metadata": {},
   "source": [
    "Pull data from the TeamYearByYear endpoint"
   ]
  },
  {
   "cell_type": "markdown",
   "id": "938a071b",
   "metadata": {},
   "source": [
    "Features: ['TEAM_ID', 'TEAM_CITY', 'TEAM_NAME', 'YEAR', 'GP', 'WINS', 'LOSSES', 'WIN_PCT', 'CONF_RANK', 'DIV_RANK', 'PO_WINS', 'PO_LOSSES', 'CONF_COUNT', 'DIV_COUNT', 'NBA_FINALS_APPEARANCE', 'FGM', 'FGA', 'FG_PCT', 'FG3M', 'FG3A', 'FG3_PCT', 'FTM', 'FTA', 'FT_PCT', 'OREB', 'DREB', 'REB', 'AST', 'PF', 'STL', 'TOV', 'BLK', 'PTS', 'PTS_RANK']"
   ]
  },
  {
   "cell_type": "code",
   "execution_count": null,
   "id": "6c6e02ab",
   "metadata": {},
   "outputs": [],
   "source": [
    "result_all_teams = pd.DataFrame()"
   ]
  },
  {
   "cell_type": "code",
   "execution_count": null,
   "id": "6a88e88a",
   "metadata": {},
   "outputs": [],
   "source": [
    "#Pull stats for each team\n",
    "for team in pd.unique(standings_selected['TeamID']):\n",
    "\n",
    "    by_team = teamyearbyyearstats.TeamYearByYearStats(team_id=team, per_mode_simple='PerGame', season_type_all_star=\"Regular Season\") \n",
    "    by_team = by_team.get_data_frames()[0]\n",
    "    by_team['YEAR'] = by_team['YEAR'].str[:4]\n",
    "    by_team['AST_TOV_RAT'] = by_team['AST']/by_team['TOV']\n",
    "    by_team = by_team.drop(['AST', 'TOV'], axis=1)\n",
    "    by_team = by_team[['TEAM_ID', 'TEAM_NAME', 'YEAR', 'WIN_PCT', 'FG_PCT', 'REB', 'AST_TOV_RAT', 'PTS']]\n",
    "    print(team)\n",
    "    \n",
    "    result_all_teams = result_all_teams.append(by_team, ignore_index=True)\n",
    "    time.sleep(2)"
   ]
  },
  {
   "cell_type": "markdown",
   "id": "ff06053b",
   "metadata": {},
   "source": [
    "Some data cleaning before exporting to CSV"
   ]
  },
  {
   "cell_type": "code",
   "execution_count": null,
   "id": "60f11187",
   "metadata": {},
   "outputs": [],
   "source": [
    "result_all_teams['YEAR'] =result_all_teams['YEAR'].astype(int)\n",
    "result_all_teams[result_all_teams['FG_PCT']==0].head(50)\n",
    "result_all_teams = result_all_teams[result_all_teams['YEAR']>1981].reset_index()\n",
    "result_all_teams = result_all_teams.drop(['level_0', 'index'], axis=1)\n"
   ]
  },
  {
   "cell_type": "code",
   "execution_count": null,
   "id": "9bf126b3",
   "metadata": {},
   "outputs": [],
   "source": [
    "result_all_teams.to_csv('result_all_teams.csv', index=False)"
   ]
  },
  {
   "cell_type": "markdown",
   "id": "bbad4cfd",
   "metadata": {},
   "source": [
    "Pull data from the CommonTeamRoster endpoint"
   ]
  },
  {
   "cell_type": "markdown",
   "id": "c9a985e7",
   "metadata": {},
   "source": [
    "Features: ['TeamID', 'SEASON', 'LeagueID', 'PLAYER', 'PLAYER_SLUG', 'NUM', 'POSITION', 'HEIGHT', 'WEIGHT', 'BIRTH_DATE', 'AGE', 'EXP', 'SCHOOL', 'PLAYER_ID']"
   ]
  },
  {
   "cell_type": "code",
   "execution_count": null,
   "id": "e6798aab",
   "metadata": {},
   "outputs": [],
   "source": [
    "all_rosters = pd.DataFrame()"
   ]
  },
  {
   "cell_type": "code",
   "execution_count": null,
   "id": "c59300db",
   "metadata": {
    "scrolled": true
   },
   "outputs": [],
   "source": [
    "#Pull roster for each team for each year between 1984-2023 !!!May take long!!!\n",
    "for team in pd.unique(standings_selected['TeamID']):\n",
    "    for year in range(1984, 2023):\n",
    "        roster = commonteamroster.CommonTeamRoster(team_id=team, season=year)\n",
    "        roster = roster.get_data_frames()[0]\n",
    "        all_rosters = all_rosters.append(roster, ignore_index=True)\n",
    "        print(team, year)\n",
    "        time.sleep(1)"
   ]
  },
  {
   "cell_type": "markdown",
   "id": "08c0260f",
   "metadata": {},
   "source": [
    "Some data cleaning before exporting to CSV"
   ]
  },
  {
   "cell_type": "code",
   "execution_count": null,
   "id": "6bfbed41",
   "metadata": {},
   "outputs": [],
   "source": [
    "all_rosters['SEASON'] = all_rosters['SEASON'].astype(int)\n",
    "all_rosters = all_rosters.rename(columns={'TeamID': 'TEAM_ID', 'SEASON': 'SEASON_ID'})"
   ]
  },
  {
   "cell_type": "code",
   "execution_count": null,
   "id": "b7039798",
   "metadata": {},
   "outputs": [],
   "source": [
    "all_rosters.to_csv('all_rosters_1984.csv', index=False)"
   ]
  },
  {
   "cell_type": "markdown",
   "id": "1ae184f3",
   "metadata": {},
   "source": [
    "Pull data from the PlayerCareerStats endpoint"
   ]
  },
  {
   "cell_type": "markdown",
   "id": "2d98cb28",
   "metadata": {},
   "source": [
    "Features: ['PLAYER_ID', 'SEASON_ID', 'LEAGUE_ID', 'TEAM_ID', 'TEAM_ABBREVIATION', 'PLAYER_AGE', 'GP', 'GS', 'MIN', 'FGM', 'FGA', 'FG_PCT', 'FG3M', 'FG3A', 'FG3_PCT', 'FTM', 'FTA', 'FT_PCT', 'OREB', 'DREB', 'REB', 'AST', 'STL', 'BLK', 'TOV', 'PF', 'PTS']"
   ]
  },
  {
   "cell_type": "code",
   "execution_count": null,
   "id": "301674bc",
   "metadata": {},
   "outputs": [],
   "source": [
    "all_players_1984 = pd.DataFrame()\n",
    "\n",
    "#Creates a list with all players featured in the rosters dataset\n",
    "player_list = pd.unique(all_rosters['PLAYER_ID']).tolist()"
   ]
  },
  {
   "cell_type": "code",
   "execution_count": null,
   "id": "d47e772d",
   "metadata": {},
   "outputs": [],
   "source": [
    "#Pull stats for each player featured in the rosters dataset !!!May take long!!!\n",
    "for count, player_id in enumerate(player_list):\n",
    "        player = playercareerstats.PlayerCareerStats(player_id=player_id)\n",
    "        player = player.get_data_frames()[0]\n",
    "        all_players_1984 = all_players_1984.append(player, ignore_index=True)\n",
    "        print(count, player_id)\n",
    "        time.sleep(1)"
   ]
  },
  {
   "cell_type": "markdown",
   "id": "b07f81af",
   "metadata": {},
   "source": [
    "Some data cleaning before exporting to CSV"
   ]
  },
  {
   "cell_type": "code",
   "execution_count": null,
   "id": "8bb95871",
   "metadata": {},
   "outputs": [],
   "source": [
    "all_players_1984['SEASON_ID'] = all_players_1984['SEASON_ID'].str[:4]\n",
    "all_players_1984['SEASON_ID'] = all_players_1984['SEASON_ID'].astype(int)"
   ]
  },
  {
   "cell_type": "code",
   "execution_count": null,
   "id": "b8100209",
   "metadata": {},
   "outputs": [],
   "source": [
    "all_players_1984.to_csv('all_players_1984.csv', index=False)"
   ]
  },
  {
   "cell_type": "markdown",
   "id": "49be14fc",
   "metadata": {},
   "source": [
    "Combine data from the rosters with data from each player"
   ]
  },
  {
   "cell_type": "code",
   "execution_count": null,
   "id": "c4f46ca5",
   "metadata": {},
   "outputs": [],
   "source": [
    "#Merge the stats for each player with the corresponding team and year\n",
    "rosters_players_combined = all_rosters.merge(all_players_1984, how='inner', on=['PLAYER_ID', 'SEASON_ID', 'TEAM_ID'])"
   ]
  },
  {
   "cell_type": "code",
   "execution_count": null,
   "id": "664875b0",
   "metadata": {},
   "outputs": [],
   "source": [
    "rosters_players_combined.to_csv('rosters_players_combined.csv', index=False)"
   ]
  }
 ],
 "metadata": {
  "kernelspec": {
   "display_name": "Python 3",
   "language": "python",
   "name": "python3"
  },
  "language_info": {
   "codemirror_mode": {
    "name": "ipython",
    "version": 3
   },
   "file_extension": ".py",
   "mimetype": "text/x-python",
   "name": "python",
   "nbconvert_exporter": "python",
   "pygments_lexer": "ipython3",
   "version": "3.8.8"
  }
 },
 "nbformat": 4,
 "nbformat_minor": 5
}
